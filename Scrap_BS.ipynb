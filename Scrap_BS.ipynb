{
  "nbformat": 4,
  "nbformat_minor": 0,
  "metadata": {
    "colab": {
      "provenance": [],
      "mount_file_id": "1e0Squk1OSDBnIrSWB8YZftgockur4pvm",
      "authorship_tag": "ABX9TyMua0iCNtoytzxoFxJGWJKR",
      "include_colab_link": true
    },
    "kernelspec": {
      "name": "python3",
      "display_name": "Python 3"
    },
    "language_info": {
      "name": "python"
    }
  },
  "cells": [
    {
      "cell_type": "markdown",
      "metadata": {
        "id": "view-in-github",
        "colab_type": "text"
      },
      "source": [
        "<a href=\"https://colab.research.google.com/github/drsowmyajagadeesan/webscrap/blob/main/Scrap_BS.ipynb\" target=\"_parent\"><img src=\"https://colab.research.google.com/assets/colab-badge.svg\" alt=\"Open In Colab\"/></a>"
      ]
    },
    {
      "cell_type": "code",
      "execution_count": 11,
      "metadata": {
        "id": "IZXpAKd8QsvZ"
      },
      "outputs": [],
      "source": [
        "import requests\n",
        "from bs4 import BeautifulSoup\n",
        "\n",
        "# fetch the HTML content from the URL\n",
        "url = 'https://computeroxy.com//'\n",
        "response = requests.get(url)\n",
        "html_content = response.content\n",
        "\n",
        "# parse the HTML content using BeautifulSoup\n",
        "soup = BeautifulSoup(html_content, 'html.parser')\n",
        "\n",
        "# find the article text using the HTML tag that contains it (e.g. div, p, etc.)\n",
        "article_text = ''\n",
        "for tag in soup.find_all('p'):\n",
        "    article_text += tag.text\n",
        "\n",
        "# write the extracted article text to a file with the URL_ID as the file name\n",
        "filename = 'URL_ID.txt'\n",
        "with open(filename, 'w') as file:\n",
        "    file.write(article_text)\n"
      ]
    }
  ]
}